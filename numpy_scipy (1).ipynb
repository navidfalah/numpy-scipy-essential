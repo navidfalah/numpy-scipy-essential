{
  "nbformat": 4,
  "nbformat_minor": 0,
  "metadata": {
    "colab": {
      "provenance": []
    },
    "kernelspec": {
      "name": "python3",
      "display_name": "Python 3"
    },
    "language_info": {
      "name": "python"
    }
  },
  "cells": [
    {
      "cell_type": "code",
      "execution_count": null,
      "metadata": {
        "id": "U1rrSVQO27dL"
      },
      "outputs": [],
      "source": [
        "#### from the book of the numpy and scipy"
      ]
    },
    {
      "cell_type": "code",
      "source": [
        "! sudo apt-get install python3-numpy python3-scipy"
      ],
      "metadata": {
        "colab": {
          "base_uri": "https://localhost:8080/"
        },
        "id": "C_9EOTRQ-NQU",
        "outputId": "03b4a1ef-c254-4330-ec92-2a961c3d8139"
      },
      "execution_count": null,
      "outputs": [
        {
          "output_type": "stream",
          "name": "stdout",
          "text": [
            "Reading package lists... Done\n",
            "Building dependency tree... Done\n",
            "Reading state information... Done\n",
            "The following additional packages will be installed:\n",
            "  libimagequant0 liblbfgsb0 libraqm0 libxsimd-dev mailcap mime-support\n",
            "  python3-beniget python3-decorator python3-gast python3-olefile python3-pil\n",
            "  python3-ply python3-pythran\n",
            "Suggested packages:\n",
            "  libxsimd-doc python-numpy-doc python3-pytest python-pil-doc python-ply-doc\n",
            "  python-scipy-doc\n",
            "The following NEW packages will be installed:\n",
            "  libimagequant0 liblbfgsb0 libraqm0 libxsimd-dev mailcap mime-support\n",
            "  python3-beniget python3-decorator python3-gast python3-numpy python3-olefile\n",
            "  python3-pil python3-ply python3-pythran python3-scipy\n",
            "0 upgraded, 15 newly installed, 0 to remove and 49 not upgraded.\n",
            "Need to get 19.4 MB of archives.\n",
            "After this operation, 83.9 MB of additional disk space will be used.\n",
            "Get:1 http://archive.ubuntu.com/ubuntu jammy/main amd64 libimagequant0 amd64 2.17.0-1 [34.6 kB]\n",
            "Get:2 http://archive.ubuntu.com/ubuntu jammy/universe amd64 liblbfgsb0 amd64 3.0+dfsg.3-10 [29.9 kB]\n",
            "Get:3 http://archive.ubuntu.com/ubuntu jammy/main amd64 libraqm0 amd64 0.7.0-4ubuntu1 [11.7 kB]\n",
            "Get:4 http://archive.ubuntu.com/ubuntu jammy/universe amd64 libxsimd-dev amd64 7.6.0-2 [108 kB]\n",
            "Get:5 http://archive.ubuntu.com/ubuntu jammy/main amd64 mailcap all 3.70+nmu1ubuntu1 [23.8 kB]\n",
            "Get:6 http://archive.ubuntu.com/ubuntu jammy/main amd64 mime-support all 3.66 [3,696 B]\n",
            "Get:7 http://archive.ubuntu.com/ubuntu jammy/universe amd64 python3-gast all 0.5.2-2 [9,394 B]\n",
            "Get:8 http://archive.ubuntu.com/ubuntu jammy/universe amd64 python3-beniget all 0.4.1-2 [9,904 B]\n",
            "Get:9 http://archive.ubuntu.com/ubuntu jammy/main amd64 python3-decorator all 4.4.2-0ubuntu1 [10.3 kB]\n",
            "Get:10 http://archive.ubuntu.com/ubuntu jammy-updates/main amd64 python3-numpy amd64 1:1.21.5-1ubuntu22.04.1 [3,467 kB]\n",
            "Get:11 http://archive.ubuntu.com/ubuntu jammy/main amd64 python3-olefile all 0.46-3 [33.8 kB]\n",
            "Get:12 http://archive.ubuntu.com/ubuntu jammy-updates/main amd64 python3-pil amd64 9.0.1-1ubuntu0.3 [419 kB]\n",
            "Get:13 http://archive.ubuntu.com/ubuntu jammy/main amd64 python3-ply all 3.11-5 [47.5 kB]\n",
            "Get:14 http://archive.ubuntu.com/ubuntu jammy/universe amd64 python3-pythran amd64 0.10.0+ds2-1 [423 kB]\n",
            "Get:15 http://archive.ubuntu.com/ubuntu jammy/universe amd64 python3-scipy amd64 1.8.0-1exp2ubuntu1 [14.7 MB]\n",
            "Fetched 19.4 MB in 2s (10.5 MB/s)\n",
            "debconf: unable to initialize frontend: Dialog\n",
            "debconf: (No usable dialog-like program is installed, so the dialog based frontend cannot be used. at /usr/share/perl5/Debconf/FrontEnd/Dialog.pm line 78, <> line 15.)\n",
            "debconf: falling back to frontend: Readline\n",
            "debconf: unable to initialize frontend: Readline\n",
            "debconf: (This frontend requires a controlling tty.)\n",
            "debconf: falling back to frontend: Teletype\n",
            "dpkg-preconfigure: unable to re-open stdin: \n",
            "Selecting previously unselected package libimagequant0:amd64.\n",
            "(Reading database ... 123632 files and directories currently installed.)\n",
            "Preparing to unpack .../00-libimagequant0_2.17.0-1_amd64.deb ...\n",
            "Unpacking libimagequant0:amd64 (2.17.0-1) ...\n",
            "Selecting previously unselected package liblbfgsb0:amd64.\n",
            "Preparing to unpack .../01-liblbfgsb0_3.0+dfsg.3-10_amd64.deb ...\n",
            "Unpacking liblbfgsb0:amd64 (3.0+dfsg.3-10) ...\n",
            "Selecting previously unselected package libraqm0:amd64.\n",
            "Preparing to unpack .../02-libraqm0_0.7.0-4ubuntu1_amd64.deb ...\n",
            "Unpacking libraqm0:amd64 (0.7.0-4ubuntu1) ...\n",
            "Selecting previously unselected package libxsimd-dev:amd64.\n",
            "Preparing to unpack .../03-libxsimd-dev_7.6.0-2_amd64.deb ...\n",
            "Unpacking libxsimd-dev:amd64 (7.6.0-2) ...\n",
            "Selecting previously unselected package mailcap.\n",
            "Preparing to unpack .../04-mailcap_3.70+nmu1ubuntu1_all.deb ...\n",
            "Unpacking mailcap (3.70+nmu1ubuntu1) ...\n",
            "Selecting previously unselected package mime-support.\n",
            "Preparing to unpack .../05-mime-support_3.66_all.deb ...\n",
            "Unpacking mime-support (3.66) ...\n",
            "Selecting previously unselected package python3-gast.\n",
            "Preparing to unpack .../06-python3-gast_0.5.2-2_all.deb ...\n",
            "Unpacking python3-gast (0.5.2-2) ...\n",
            "Selecting previously unselected package python3-beniget.\n",
            "Preparing to unpack .../07-python3-beniget_0.4.1-2_all.deb ...\n",
            "Unpacking python3-beniget (0.4.1-2) ...\n",
            "Selecting previously unselected package python3-decorator.\n",
            "Preparing to unpack .../08-python3-decorator_4.4.2-0ubuntu1_all.deb ...\n",
            "Unpacking python3-decorator (4.4.2-0ubuntu1) ...\n",
            "Selecting previously unselected package python3-numpy.\n",
            "Preparing to unpack .../09-python3-numpy_1%3a1.21.5-1ubuntu22.04.1_amd64.deb ...\n",
            "Unpacking python3-numpy (1:1.21.5-1ubuntu22.04.1) ...\n",
            "Selecting previously unselected package python3-olefile.\n",
            "Preparing to unpack .../10-python3-olefile_0.46-3_all.deb ...\n",
            "Unpacking python3-olefile (0.46-3) ...\n",
            "Selecting previously unselected package python3-pil:amd64.\n",
            "Preparing to unpack .../11-python3-pil_9.0.1-1ubuntu0.3_amd64.deb ...\n",
            "Unpacking python3-pil:amd64 (9.0.1-1ubuntu0.3) ...\n",
            "Selecting previously unselected package python3-ply.\n",
            "Preparing to unpack .../12-python3-ply_3.11-5_all.deb ...\n",
            "Unpacking python3-ply (3.11-5) ...\n",
            "Selecting previously unselected package python3-pythran.\n",
            "Preparing to unpack .../13-python3-pythran_0.10.0+ds2-1_amd64.deb ...\n",
            "Unpacking python3-pythran (0.10.0+ds2-1) ...\n",
            "Selecting previously unselected package python3-scipy.\n",
            "Preparing to unpack .../14-python3-scipy_1.8.0-1exp2ubuntu1_amd64.deb ...\n",
            "Unpacking python3-scipy (1.8.0-1exp2ubuntu1) ...\n",
            "Setting up python3-olefile (0.46-3) ...\n",
            "Setting up python3-ply (3.11-5) ...\n",
            "Setting up python3-gast (0.5.2-2) ...\n",
            "Setting up python3-beniget (0.4.1-2) ...\n",
            "Setting up libxsimd-dev:amd64 (7.6.0-2) ...\n",
            "Setting up python3-decorator (4.4.2-0ubuntu1) ...\n",
            "Setting up libraqm0:amd64 (0.7.0-4ubuntu1) ...\n",
            "Setting up libimagequant0:amd64 (2.17.0-1) ...\n",
            "Setting up python3-numpy (1:1.21.5-1ubuntu22.04.1) ...\n",
            "Setting up python3-pythran (0.10.0+ds2-1) ...\n",
            "Setting up mailcap (3.70+nmu1ubuntu1) ...\n",
            "Setting up liblbfgsb0:amd64 (3.0+dfsg.3-10) ...\n",
            "Setting up python3-scipy (1.8.0-1exp2ubuntu1) ...\n",
            "Setting up mime-support (3.66) ...\n",
            "Setting up python3-pil:amd64 (9.0.1-1ubuntu0.3) ...\n",
            "Processing triggers for man-db (2.10.2-1) ...\n",
            "Processing triggers for libc-bin (2.35-0ubuntu3.4) ...\n",
            "/sbin/ldconfig.real: /usr/local/lib/libtbb.so.12 is not a symbolic link\n",
            "\n",
            "/sbin/ldconfig.real: /usr/local/lib/libtcm.so.1 is not a symbolic link\n",
            "\n",
            "/sbin/ldconfig.real: /usr/local/lib/libtbbmalloc_proxy.so.2 is not a symbolic link\n",
            "\n",
            "/sbin/ldconfig.real: /usr/local/lib/libhwloc.so.15 is not a symbolic link\n",
            "\n",
            "/sbin/ldconfig.real: /usr/local/lib/libtbbmalloc.so.2 is not a symbolic link\n",
            "\n",
            "/sbin/ldconfig.real: /usr/local/lib/libur_adapter_level_zero.so.0 is not a symbolic link\n",
            "\n",
            "/sbin/ldconfig.real: /usr/local/lib/libtbbbind_2_5.so.3 is not a symbolic link\n",
            "\n",
            "/sbin/ldconfig.real: /usr/local/lib/libtcm_debug.so.1 is not a symbolic link\n",
            "\n",
            "/sbin/ldconfig.real: /usr/local/lib/libumf.so.0 is not a symbolic link\n",
            "\n",
            "/sbin/ldconfig.real: /usr/local/lib/libtbbbind_2_0.so.3 is not a symbolic link\n",
            "\n",
            "/sbin/ldconfig.real: /usr/local/lib/libtbbbind.so.3 is not a symbolic link\n",
            "\n",
            "/sbin/ldconfig.real: /usr/local/lib/libur_adapter_opencl.so.0 is not a symbolic link\n",
            "\n",
            "/sbin/ldconfig.real: /usr/local/lib/libur_loader.so.0 is not a symbolic link\n",
            "\n"
          ]
        }
      ]
    },
    {
      "cell_type": "code",
      "source": [
        "import numpy as np\n",
        "\n",
        "arr = np.arange(1e7)"
      ],
      "metadata": {
        "id": "8xJgXFBV_-0y"
      },
      "execution_count": null,
      "outputs": []
    },
    {
      "cell_type": "code",
      "source": [
        "larr = arr.tolist()"
      ],
      "metadata": {
        "id": "3l0ER7ovD9do"
      },
      "execution_count": null,
      "outputs": []
    },
    {
      "cell_type": "code",
      "source": [
        "arr[:10], larr[0:10]"
      ],
      "metadata": {
        "colab": {
          "base_uri": "https://localhost:8080/"
        },
        "id": "zi6YLDqwED26",
        "outputId": "b752b67b-bf1a-427f-9f07-bc69e0fe4e67"
      },
      "execution_count": null,
      "outputs": [
        {
          "output_type": "execute_result",
          "data": {
            "text/plain": [
              "(array([0., 1., 2., 3., 4., 5., 6., 7., 8., 9.]),\n",
              " [0.0, 1.0, 2.0, 3.0, 4.0, 5.0, 6.0, 7.0, 8.0, 9.0])"
            ]
          },
          "metadata": {},
          "execution_count": 5
        }
      ]
    },
    {
      "cell_type": "code",
      "source": [
        "def list_times(alist, scalar):\n",
        "  for i, val in enumerate(alist):\n",
        "    alist[i] = val*scalar\n",
        "  return alist"
      ],
      "metadata": {
        "id": "qbYrkxoaEEs2"
      },
      "execution_count": null,
      "outputs": []
    },
    {
      "cell_type": "code",
      "source": [
        "timeit arr *1.1"
      ],
      "metadata": {
        "colab": {
          "base_uri": "https://localhost:8080/"
        },
        "id": "od-Y2NTaEY-N",
        "outputId": "174a6cff-2872-47e2-d47e-b8fb46deca65"
      },
      "execution_count": null,
      "outputs": [
        {
          "output_type": "stream",
          "name": "stdout",
          "text": [
            "29.6 ms ± 1.99 ms per loop (mean ± std. dev. of 7 runs, 10 loops each)\n"
          ]
        }
      ]
    },
    {
      "cell_type": "code",
      "source": [
        "timeit list_times(larr, 1.1)"
      ],
      "metadata": {
        "colab": {
          "base_uri": "https://localhost:8080/"
        },
        "id": "j9t1vVO4Effk",
        "outputId": "c38421ea-c984-4110-97af-f6581638f8a4"
      },
      "execution_count": null,
      "outputs": [
        {
          "output_type": "stream",
          "name": "stdout",
          "text": [
            "901 ms ± 150 ms per loop (mean ± std. dev. of 7 runs, 1 loop each)\n"
          ]
        }
      ]
    },
    {
      "cell_type": "code",
      "source": [
        "### try to create a numpy matrix for 3 dimension\n",
        "\n",
        "arr = np.zeros((2, 2, 2))\n",
        "arr"
      ],
      "metadata": {
        "colab": {
          "base_uri": "https://localhost:8080/"
        },
        "id": "VWA90l4TEk9K",
        "outputId": "bc76a475-95b9-4ead-f6df-661f83b75d29"
      },
      "execution_count": null,
      "outputs": [
        {
          "output_type": "execute_result",
          "data": {
            "text/plain": [
              "array([[[0., 0.],\n",
              "        [0., 0.]],\n",
              "\n",
              "       [[0., 0.],\n",
              "        [0., 0.]]])"
            ]
          },
          "metadata": {},
          "execution_count": 11
        }
      ]
    },
    {
      "cell_type": "code",
      "source": [
        "### creata numpy array\n",
        "\n",
        "arr = np.array([1, 2, 3, 4])\n",
        "\n",
        "arr = np.zeros(5)\n",
        "\n",
        "arr = np.arange(100)\n",
        "\n",
        "arr = np.arange(10, 100)\n",
        "\n",
        "arr = np.arange(0, 1, 100)\n",
        "\n",
        "image = np.zeros((5, 5))"
      ],
      "metadata": {
        "id": "-GZKpBy4F8ar"
      },
      "execution_count": null,
      "outputs": []
    },
    {
      "cell_type": "code",
      "source": [
        "cube = np.zeros((5, 5, 5))\n",
        "cube"
      ],
      "metadata": {
        "colab": {
          "base_uri": "https://localhost:8080/"
        },
        "id": "IgllVoXdf4vX",
        "outputId": "0b4b5998-02c7-49e6-be6e-6fea131b0ea2"
      },
      "execution_count": null,
      "outputs": [
        {
          "output_type": "execute_result",
          "data": {
            "text/plain": [
              "array([[[0., 0., 0., 0., 0.],\n",
              "        [0., 0., 0., 0., 0.],\n",
              "        [0., 0., 0., 0., 0.],\n",
              "        [0., 0., 0., 0., 0.],\n",
              "        [0., 0., 0., 0., 0.]],\n",
              "\n",
              "       [[0., 0., 0., 0., 0.],\n",
              "        [0., 0., 0., 0., 0.],\n",
              "        [0., 0., 0., 0., 0.],\n",
              "        [0., 0., 0., 0., 0.],\n",
              "        [0., 0., 0., 0., 0.]],\n",
              "\n",
              "       [[0., 0., 0., 0., 0.],\n",
              "        [0., 0., 0., 0., 0.],\n",
              "        [0., 0., 0., 0., 0.],\n",
              "        [0., 0., 0., 0., 0.],\n",
              "        [0., 0., 0., 0., 0.]],\n",
              "\n",
              "       [[0., 0., 0., 0., 0.],\n",
              "        [0., 0., 0., 0., 0.],\n",
              "        [0., 0., 0., 0., 0.],\n",
              "        [0., 0., 0., 0., 0.],\n",
              "        [0., 0., 0., 0., 0.]],\n",
              "\n",
              "       [[0., 0., 0., 0., 0.],\n",
              "        [0., 0., 0., 0., 0.],\n",
              "        [0., 0., 0., 0., 0.],\n",
              "        [0., 0., 0., 0., 0.],\n",
              "        [0., 0., 0., 0., 0.]]])"
            ]
          },
          "metadata": {},
          "execution_count": 13
        }
      ]
    },
    {
      "cell_type": "code",
      "source": [
        "cube.dtype"
      ],
      "metadata": {
        "colab": {
          "base_uri": "https://localhost:8080/"
        },
        "id": "k_rpSoV9f7jE",
        "outputId": "3c8444bd-4e6d-4e82-bbec-3b27e2dcab05"
      },
      "execution_count": null,
      "outputs": [
        {
          "output_type": "execute_result",
          "data": {
            "text/plain": [
              "dtype('float64')"
            ]
          },
          "metadata": {},
          "execution_count": 17
        }
      ]
    },
    {
      "cell_type": "code",
      "source": [
        "np.ones(5).astype(np.float16)"
      ],
      "metadata": {
        "colab": {
          "base_uri": "https://localhost:8080/"
        },
        "id": "WMkE4NJ6gD1n",
        "outputId": "1c3e062d-90df-4c94-c9cc-9dd8734d361c"
      },
      "execution_count": null,
      "outputs": [
        {
          "output_type": "execute_result",
          "data": {
            "text/plain": [
              "array([1., 1., 1., 1., 1.], dtype=float16)"
            ]
          },
          "metadata": {},
          "execution_count": 18
        }
      ]
    },
    {
      "cell_type": "code",
      "source": [
        "### reshape the array\n",
        "\n",
        "arr1 = np.arange(1000)\n",
        "\n",
        "arr3 = arr1.reshape((10, 10, 10))\n",
        "\n",
        "arr3"
      ],
      "metadata": {
        "colab": {
          "base_uri": "https://localhost:8080/"
        },
        "id": "lnW7h9IomfCU",
        "outputId": "76b1ec64-a437-47b0-d017-8134f53163ba"
      },
      "execution_count": null,
      "outputs": [
        {
          "output_type": "execute_result",
          "data": {
            "text/plain": [
              "array([[[  0,   1,   2,   3,   4,   5,   6,   7,   8,   9],\n",
              "        [ 10,  11,  12,  13,  14,  15,  16,  17,  18,  19],\n",
              "        [ 20,  21,  22,  23,  24,  25,  26,  27,  28,  29],\n",
              "        [ 30,  31,  32,  33,  34,  35,  36,  37,  38,  39],\n",
              "        [ 40,  41,  42,  43,  44,  45,  46,  47,  48,  49],\n",
              "        [ 50,  51,  52,  53,  54,  55,  56,  57,  58,  59],\n",
              "        [ 60,  61,  62,  63,  64,  65,  66,  67,  68,  69],\n",
              "        [ 70,  71,  72,  73,  74,  75,  76,  77,  78,  79],\n",
              "        [ 80,  81,  82,  83,  84,  85,  86,  87,  88,  89],\n",
              "        [ 90,  91,  92,  93,  94,  95,  96,  97,  98,  99]],\n",
              "\n",
              "       [[100, 101, 102, 103, 104, 105, 106, 107, 108, 109],\n",
              "        [110, 111, 112, 113, 114, 115, 116, 117, 118, 119],\n",
              "        [120, 121, 122, 123, 124, 125, 126, 127, 128, 129],\n",
              "        [130, 131, 132, 133, 134, 135, 136, 137, 138, 139],\n",
              "        [140, 141, 142, 143, 144, 145, 146, 147, 148, 149],\n",
              "        [150, 151, 152, 153, 154, 155, 156, 157, 158, 159],\n",
              "        [160, 161, 162, 163, 164, 165, 166, 167, 168, 169],\n",
              "        [170, 171, 172, 173, 174, 175, 176, 177, 178, 179],\n",
              "        [180, 181, 182, 183, 184, 185, 186, 187, 188, 189],\n",
              "        [190, 191, 192, 193, 194, 195, 196, 197, 198, 199]],\n",
              "\n",
              "       [[200, 201, 202, 203, 204, 205, 206, 207, 208, 209],\n",
              "        [210, 211, 212, 213, 214, 215, 216, 217, 218, 219],\n",
              "        [220, 221, 222, 223, 224, 225, 226, 227, 228, 229],\n",
              "        [230, 231, 232, 233, 234, 235, 236, 237, 238, 239],\n",
              "        [240, 241, 242, 243, 244, 245, 246, 247, 248, 249],\n",
              "        [250, 251, 252, 253, 254, 255, 256, 257, 258, 259],\n",
              "        [260, 261, 262, 263, 264, 265, 266, 267, 268, 269],\n",
              "        [270, 271, 272, 273, 274, 275, 276, 277, 278, 279],\n",
              "        [280, 281, 282, 283, 284, 285, 286, 287, 288, 289],\n",
              "        [290, 291, 292, 293, 294, 295, 296, 297, 298, 299]],\n",
              "\n",
              "       [[300, 301, 302, 303, 304, 305, 306, 307, 308, 309],\n",
              "        [310, 311, 312, 313, 314, 315, 316, 317, 318, 319],\n",
              "        [320, 321, 322, 323, 324, 325, 326, 327, 328, 329],\n",
              "        [330, 331, 332, 333, 334, 335, 336, 337, 338, 339],\n",
              "        [340, 341, 342, 343, 344, 345, 346, 347, 348, 349],\n",
              "        [350, 351, 352, 353, 354, 355, 356, 357, 358, 359],\n",
              "        [360, 361, 362, 363, 364, 365, 366, 367, 368, 369],\n",
              "        [370, 371, 372, 373, 374, 375, 376, 377, 378, 379],\n",
              "        [380, 381, 382, 383, 384, 385, 386, 387, 388, 389],\n",
              "        [390, 391, 392, 393, 394, 395, 396, 397, 398, 399]],\n",
              "\n",
              "       [[400, 401, 402, 403, 404, 405, 406, 407, 408, 409],\n",
              "        [410, 411, 412, 413, 414, 415, 416, 417, 418, 419],\n",
              "        [420, 421, 422, 423, 424, 425, 426, 427, 428, 429],\n",
              "        [430, 431, 432, 433, 434, 435, 436, 437, 438, 439],\n",
              "        [440, 441, 442, 443, 444, 445, 446, 447, 448, 449],\n",
              "        [450, 451, 452, 453, 454, 455, 456, 457, 458, 459],\n",
              "        [460, 461, 462, 463, 464, 465, 466, 467, 468, 469],\n",
              "        [470, 471, 472, 473, 474, 475, 476, 477, 478, 479],\n",
              "        [480, 481, 482, 483, 484, 485, 486, 487, 488, 489],\n",
              "        [490, 491, 492, 493, 494, 495, 496, 497, 498, 499]],\n",
              "\n",
              "       [[500, 501, 502, 503, 504, 505, 506, 507, 508, 509],\n",
              "        [510, 511, 512, 513, 514, 515, 516, 517, 518, 519],\n",
              "        [520, 521, 522, 523, 524, 525, 526, 527, 528, 529],\n",
              "        [530, 531, 532, 533, 534, 535, 536, 537, 538, 539],\n",
              "        [540, 541, 542, 543, 544, 545, 546, 547, 548, 549],\n",
              "        [550, 551, 552, 553, 554, 555, 556, 557, 558, 559],\n",
              "        [560, 561, 562, 563, 564, 565, 566, 567, 568, 569],\n",
              "        [570, 571, 572, 573, 574, 575, 576, 577, 578, 579],\n",
              "        [580, 581, 582, 583, 584, 585, 586, 587, 588, 589],\n",
              "        [590, 591, 592, 593, 594, 595, 596, 597, 598, 599]],\n",
              "\n",
              "       [[600, 601, 602, 603, 604, 605, 606, 607, 608, 609],\n",
              "        [610, 611, 612, 613, 614, 615, 616, 617, 618, 619],\n",
              "        [620, 621, 622, 623, 624, 625, 626, 627, 628, 629],\n",
              "        [630, 631, 632, 633, 634, 635, 636, 637, 638, 639],\n",
              "        [640, 641, 642, 643, 644, 645, 646, 647, 648, 649],\n",
              "        [650, 651, 652, 653, 654, 655, 656, 657, 658, 659],\n",
              "        [660, 661, 662, 663, 664, 665, 666, 667, 668, 669],\n",
              "        [670, 671, 672, 673, 674, 675, 676, 677, 678, 679],\n",
              "        [680, 681, 682, 683, 684, 685, 686, 687, 688, 689],\n",
              "        [690, 691, 692, 693, 694, 695, 696, 697, 698, 699]],\n",
              "\n",
              "       [[700, 701, 702, 703, 704, 705, 706, 707, 708, 709],\n",
              "        [710, 711, 712, 713, 714, 715, 716, 717, 718, 719],\n",
              "        [720, 721, 722, 723, 724, 725, 726, 727, 728, 729],\n",
              "        [730, 731, 732, 733, 734, 735, 736, 737, 738, 739],\n",
              "        [740, 741, 742, 743, 744, 745, 746, 747, 748, 749],\n",
              "        [750, 751, 752, 753, 754, 755, 756, 757, 758, 759],\n",
              "        [760, 761, 762, 763, 764, 765, 766, 767, 768, 769],\n",
              "        [770, 771, 772, 773, 774, 775, 776, 777, 778, 779],\n",
              "        [780, 781, 782, 783, 784, 785, 786, 787, 788, 789],\n",
              "        [790, 791, 792, 793, 794, 795, 796, 797, 798, 799]],\n",
              "\n",
              "       [[800, 801, 802, 803, 804, 805, 806, 807, 808, 809],\n",
              "        [810, 811, 812, 813, 814, 815, 816, 817, 818, 819],\n",
              "        [820, 821, 822, 823, 824, 825, 826, 827, 828, 829],\n",
              "        [830, 831, 832, 833, 834, 835, 836, 837, 838, 839],\n",
              "        [840, 841, 842, 843, 844, 845, 846, 847, 848, 849],\n",
              "        [850, 851, 852, 853, 854, 855, 856, 857, 858, 859],\n",
              "        [860, 861, 862, 863, 864, 865, 866, 867, 868, 869],\n",
              "        [870, 871, 872, 873, 874, 875, 876, 877, 878, 879],\n",
              "        [880, 881, 882, 883, 884, 885, 886, 887, 888, 889],\n",
              "        [890, 891, 892, 893, 894, 895, 896, 897, 898, 899]],\n",
              "\n",
              "       [[900, 901, 902, 903, 904, 905, 906, 907, 908, 909],\n",
              "        [910, 911, 912, 913, 914, 915, 916, 917, 918, 919],\n",
              "        [920, 921, 922, 923, 924, 925, 926, 927, 928, 929],\n",
              "        [930, 931, 932, 933, 934, 935, 936, 937, 938, 939],\n",
              "        [940, 941, 942, 943, 944, 945, 946, 947, 948, 949],\n",
              "        [950, 951, 952, 953, 954, 955, 956, 957, 958, 959],\n",
              "        [960, 961, 962, 963, 964, 965, 966, 967, 968, 969],\n",
              "        [970, 971, 972, 973, 974, 975, 976, 977, 978, 979],\n",
              "        [980, 981, 982, 983, 984, 985, 986, 987, 988, 989],\n",
              "        [990, 991, 992, 993, 994, 995, 996, 997, 998, 999]]])"
            ]
          },
          "metadata": {},
          "execution_count": 20
        }
      ]
    },
    {
      "cell_type": "code",
      "source": [
        "arr4 = np.zeros((10, 10, 10, 10))\n",
        "\n",
        "arr1 = arr4.ravel()\n",
        "\n",
        "arr1.shape"
      ],
      "metadata": {
        "colab": {
          "base_uri": "https://localhost:8080/"
        },
        "id": "RmWDkyBInHih",
        "outputId": "78cb6d1a-cc64-4b77-9591-df5eb7187c40"
      },
      "execution_count": null,
      "outputs": [
        {
          "output_type": "execute_result",
          "data": {
            "text/plain": [
              "(10000,)"
            ]
          },
          "metadata": {},
          "execution_count": 22
        }
      ]
    },
    {
      "cell_type": "code",
      "source": [
        "recarr = np.zeros((2,), dtype=('i4,f4,a10'))\n",
        "\n",
        "recarr"
      ],
      "metadata": {
        "id": "wl7_taZknzJi",
        "colab": {
          "base_uri": "https://localhost:8080/"
        },
        "outputId": "091d7c3d-078e-4cee-cf32-d637aa28ab05"
      },
      "execution_count": null,
      "outputs": [
        {
          "output_type": "execute_result",
          "data": {
            "text/plain": [
              "array([(0, 0., b''), (0, 0., b'')],\n",
              "      dtype=[('f0', '<i4'), ('f1', '<f4'), ('f2', 'S10')])"
            ]
          },
          "metadata": {},
          "execution_count": 32
        }
      ]
    },
    {
      "cell_type": "code",
      "source": [
        "col1 = np.arange(2) +1\n",
        "col2 = np.arange(2, dtype=np.float32)\n",
        "col3 = [\"hello\", \"world\"]\n",
        "\n",
        "toadd = zip(col1, col2, col3)"
      ],
      "metadata": {
        "id": "8oXcno2RsNUq"
      },
      "execution_count": null,
      "outputs": []
    },
    {
      "cell_type": "code",
      "source": [
        "for x in toadd:\n",
        "  print(x)"
      ],
      "metadata": {
        "colab": {
          "base_uri": "https://localhost:8080/"
        },
        "id": "HobClztdLQ4R",
        "outputId": "4fc180dc-8c03-43b3-a478-5851e300de8f"
      },
      "execution_count": null,
      "outputs": [
        {
          "output_type": "stream",
          "name": "stdout",
          "text": [
            "(1, 0.0, 'hello')\n",
            "(2, 1.0, 'world')\n"
          ]
        }
      ]
    },
    {
      "cell_type": "code",
      "source": [
        "import numpy as np\n",
        "\n",
        "### create a large array\n",
        "\n",
        "data = np.empty((1000, 1000))\n",
        "data"
      ],
      "metadata": {
        "colab": {
          "base_uri": "https://localhost:8080/"
        },
        "id": "wbn_h7_KLSHS",
        "outputId": "06379df4-9e14-4141-f2f3-a810cebf635b"
      },
      "execution_count": null,
      "outputs": [
        {
          "output_type": "execute_result",
          "data": {
            "text/plain": [
              "array([[0., 0., 0., ..., 0., 0., 0.],\n",
              "       [0., 0., 0., ..., 0., 0., 0.],\n",
              "       [0., 0., 0., ..., 0., 0., 0.],\n",
              "       ...,\n",
              "       [0., 0., 0., ..., 0., 0., 0.],\n",
              "       [0., 0., 0., ..., 0., 0., 0.],\n",
              "       [0., 0., 0., ..., 0., 0., 0.]])"
            ]
          },
          "metadata": {},
          "execution_count": 39
        }
      ]
    },
    {
      "cell_type": "code",
      "source": [
        "### saving the array\n",
        "\n",
        "np.save(\"test.npy\", data)"
      ],
      "metadata": {
        "id": "nYO1DWvfLaRy"
      },
      "execution_count": null,
      "outputs": []
    },
    {
      "cell_type": "code",
      "source": [
        "### this make the file zip as the storage might matter\n",
        "np.savez(\"test.npz\", data)\n",
        "\n",
        "newdata = np.load(\"test.npy\")"
      ],
      "metadata": {
        "id": "oM4Mn9TckSfN"
      },
      "execution_count": null,
      "outputs": []
    },
    {
      "cell_type": "code",
      "source": [
        "A = np.matrix([[3, 6, -5], [1, -3, 2], [5, -1, 4]])\n",
        "B = np.matrix([[12], [-2], [10]])\n",
        "\n",
        "X = A**(-1) * B\n",
        "print(X)"
      ],
      "metadata": {
        "colab": {
          "base_uri": "https://localhost:8080/"
        },
        "id": "Mz6Nq_l9ki5F",
        "outputId": "9ff731c5-9b9c-415a-9be9-28331ec1a492"
      },
      "execution_count": null,
      "outputs": [
        {
          "output_type": "stream",
          "name": "stdout",
          "text": [
            "[[1.75]\n",
            " [1.75]\n",
            " [0.75]]\n"
          ]
        }
      ]
    },
    {
      "cell_type": "code",
      "source": [
        "A**(-1)"
      ],
      "metadata": {
        "colab": {
          "base_uri": "https://localhost:8080/"
        },
        "id": "DA8_LhjimRMf",
        "outputId": "2bd2f8ec-dc8c-4651-fa56-dbbfedc095c0"
      },
      "execution_count": null,
      "outputs": [
        {
          "output_type": "execute_result",
          "data": {
            "text/plain": [
              "matrix([[ 0.15625 ,  0.296875,  0.046875],\n",
              "        [-0.09375 , -0.578125,  0.171875],\n",
              "        [-0.21875 , -0.515625,  0.234375]])"
            ]
          },
          "metadata": {},
          "execution_count": 43
        }
      ]
    },
    {
      "cell_type": "code",
      "source": [
        "### as not all of the matrices are not invertibale we can use the numpy.linlag.svd instead\n",
        "\n",
        "a = np.array([[3, 6, -5],\n",
        "              [1, -3, 2],\n",
        "              [5, -1, 4]])\n",
        "\n",
        "b = np.array([12, -2, 10])\n",
        "\n",
        "x = np.linalg.inv(a).dot(b)\n",
        "print(x)"
      ],
      "metadata": {
        "colab": {
          "base_uri": "https://localhost:8080/"
        },
        "id": "i4988A1AmTzb",
        "outputId": "27cee6a3-4d82-449b-febf-c6ceb55c3065"
      },
      "execution_count": null,
      "outputs": [
        {
          "output_type": "stream",
          "name": "stdout",
          "text": [
            "[1.75 1.75 0.75]\n"
          ]
        }
      ]
    },
    {
      "cell_type": "code",
      "source": [
        "### scipy\n",
        "\n",
        "### data modeling and fitting\n",
        "\n",
        "import numpy as np\n",
        "from scipy.optimize import curve_fit\n",
        "\n",
        "def func(x, a, b):\n",
        "  return a*x+b\n",
        "\n",
        "x = np.linspace(0, 10, 100)\n",
        "y = func(x, 1, 4)\n",
        "\n",
        "yn = y + 0.9*np.random.normal(size=len(x))\n",
        "\n",
        "popt, pcov = curve_fit(func, x, yn)\n",
        "\n",
        "print(popt)"
      ],
      "metadata": {
        "colab": {
          "base_uri": "https://localhost:8080/"
        },
        "id": "LWqrO_oYnBYr",
        "outputId": "e6ac8f22-e358-4521-82f1-19d2b7659e52"
      },
      "execution_count": null,
      "outputs": [
        {
          "output_type": "stream",
          "name": "stdout",
          "text": [
            "[0.98064909 4.16967334]\n"
          ]
        }
      ]
    },
    {
      "cell_type": "code",
      "source": [
        "import numpy as np\n",
        "import matplotlib.pyplot as plt\n",
        "from scipy.optimize import curve_fit\n",
        "\n",
        "# Define Linear Model\n",
        "def linear_func(x, a, b):\n",
        "    return a * x + b\n",
        "\n",
        "# Define Polynomial Model (Quadratic)\n",
        "def quadratic_func(x, a, b, c):\n",
        "    return a * x**2 + b * x + c\n",
        "\n",
        "# Define Exponential Model\n",
        "def exponential_func(x, a, b, c):\n",
        "    return a * np.exp(-b * x) + c\n",
        "\n",
        "# Define Logistic Model\n",
        "def logistic_func(x, L, x0, k, c):\n",
        "    return L / (1 + np.exp(-k * (x - x0))) + c\n",
        "\n",
        "# Generate Sample Data\n",
        "x = np.linspace(0, 10, 100)\n",
        "y = linear_func(x, 1, 4)  # Linear data\n",
        "yn = y + 0.9 * np.random.normal(size=len(x))  # Add noise\n",
        "\n",
        "# Linear Fit\n",
        "popt_linear, _ = curve_fit(linear_func, x, yn)\n",
        "y_fit_linear = linear_func(x, *popt_linear)\n",
        "\n",
        "# Polynomial Fit (Quadratic)\n",
        "popt_quadratic, _ = curve_fit(quadratic_func, x, yn)\n",
        "y_fit_quadratic = quadratic_func(x, *popt_quadratic)\n",
        "\n",
        "# Exponential Fit\n",
        "popt_exponential, _ = curve_fit(exponential_func, x, yn, p0=(1, 0.1, 1), maxfev=5000)\n",
        "y_fit_exponential = exponential_func(x, *popt_exponential)\n",
        "\n",
        "# Logistic Fit\n",
        "popt_logistic, _ = curve_fit(logistic_func, x, yn, p0=(max(yn), np.median(x), 1, min(yn)))\n",
        "y_fit_logistic = logistic_func(x, *popt_logistic)\n",
        "\n",
        "# Print Fitted Parameters\n",
        "print(\"Linear Fit Parameters:\", popt_linear)\n",
        "print(\"Quadratic Fit Parameters:\", popt_quadratic)\n",
        "print(\"Exponential Fit Parameters:\", popt_exponential)\n",
        "print(\"Logistic Fit Parameters:\", popt_logistic)\n",
        "\n",
        "# Plot Original Data with Fits\n",
        "plt.figure(figsize=(10, 6))\n",
        "plt.scatter(x, yn, label=\"Noisy Data\", color=\"black\", s=10)\n",
        "plt.plot(x, y_fit_linear, label=\"Linear Fit\", color=\"red\")\n",
        "plt.plot(x, y_fit_quadratic, label=\"Quadratic Fit\", color=\"blue\")\n",
        "plt.plot(x, y_fit_exponential, label=\"Exponential Fit\", color=\"green\")\n",
        "plt.plot(x, y_fit_logistic, label=\"Logistic Fit\", color=\"purple\")\n",
        "plt.legend()\n",
        "plt.xlabel(\"x\")\n",
        "plt.ylabel(\"y\")\n",
        "plt.title(\"Curve Fitting with Different Models\")\n",
        "plt.grid()\n",
        "plt.show()\n"
      ],
      "metadata": {
        "colab": {
          "base_uri": "https://localhost:8080/",
          "height": 618
        },
        "id": "7LYQMM2XqQdz",
        "outputId": "615d4dde-2dc0-4eef-eca3-0339abe77788"
      },
      "execution_count": null,
      "outputs": [
        {
          "output_type": "stream",
          "name": "stdout",
          "text": [
            "Linear Fit Parameters: [0.97175109 3.93677606]\n",
            "Quadratic Fit Parameters: [0.01965229 0.77522817 4.26100579]\n",
            "Exponential Fit Parameters: [ 19.70874598  -0.04016881 -15.46270092]\n",
            "Logistic Fit Parameters: [57.36942094 16.65450889  0.08701089 -6.64178633]\n"
          ]
        },
        {
          "output_type": "display_data",
          "data": {
            "text/plain": [
              "<Figure size 1000x600 with 1 Axes>"
            ],
            "image/png": "[encoded data removed]"
          },
          "metadata": {}
        }
      ]
    },
    {
      "cell_type": "code",
      "source": [
        "# Two-Gaussian model\n",
        "def func(x, a0, b0, c0, a1, b1,c1):\n",
        "  return a0*np.exp(-(x - b0) ** 2/(2 * c0 ** 2))\\\n",
        "  + a1 * np.exp(-(x - b1) ** 2/(2 * c1 ** 2))\n",
        "\n",
        "# Generating clean data\n",
        "x = np.linspace(0, 20, 200)\n",
        "y = func(x, 1, 3, 1, -2, 15, 0.5)\n",
        "# Adding noise to the data\n",
        "yn = y + 0.2 * np.random.normal(size=len(x))\n",
        "# Since we are fitting a more complex function,\n",
        "# providing guesses for the fitting will lead to\n",
        "# better results.\n",
        "guesses = [1, 3, 1, 1, 15, 1]\n",
        "# Executing curve_fit on noisy data\n",
        "popt, pcov = curve_fit(func, x, yn,\n",
        "p0=guesses)"
      ],
      "metadata": {
        "id": "jyXpHbvXvtZ5"
      },
      "execution_count": null,
      "outputs": []
    },
    {
      "cell_type": "code",
      "source": [
        "popt, pcov"
      ],
      "metadata": {
        "colab": {
          "base_uri": "https://localhost:8080/"
        },
        "id": "QH4cv8vnwLgq",
        "outputId": "1adb5e7f-1c87-42f5-99aa-3b4b7292729c"
      },
      "execution_count": null,
      "outputs": [
        {
          "output_type": "execute_result",
          "data": {
            "text/plain": [
              "(array([ 1.10047425,  3.02709181,  0.89661567, -1.93833209, 15.01408412,\n",
              "         0.51032615]),\n",
              " array([[ 3.12938659e-03,  8.13449784e-08, -1.69998110e-03,\n",
              "          4.37492650e-21,  5.85590055e-21,  7.67857027e-22],\n",
              "        [ 8.13449784e-08,  2.76971737e-03, -1.44173678e-07,\n",
              "          2.59805023e-21,  4.96431888e-25,  4.55992170e-22],\n",
              "        [-1.69998110e-03, -1.44173678e-07,  2.77017267e-03,\n",
              "         -8.39461407e-21, -9.54237405e-21, -1.47336508e-21],\n",
              "        [ 4.37492650e-21,  2.59805023e-21, -8.39461407e-21,\n",
              "          5.49804361e-03, -4.25668979e-10,  9.64979356e-04],\n",
              "        [ 5.85590055e-21,  4.96431888e-25, -9.54237405e-21,\n",
              "         -4.25668979e-10,  5.08099923e-04, -1.11622297e-10],\n",
              "        [ 7.67857027e-22,  4.55992170e-22, -1.47336508e-21,\n",
              "          9.64979356e-04, -1.11622297e-10,  5.08099917e-04]]))"
            ]
          },
          "metadata": {},
          "execution_count": 54
        }
      ]
    },
    {
      "cell_type": "code",
      "source": [
        "### solution to functions\n",
        "\n",
        "from scipy.optimize import fsolve\n",
        "import numpy as np\n",
        "\n",
        "### func = x+3\n",
        "line = lambda x:x+3\n",
        "## func = -2(x+3)\n",
        "solution = fsolve(line, -2)\n",
        "\n",
        "solution"
      ],
      "metadata": {
        "colab": {
          "base_uri": "https://localhost:8080/"
        },
        "id": "vm0dBzRDwUjk",
        "outputId": "1b46a90e-c937-4c65-bc3c-830b5f65499d"
      },
      "execution_count": null,
      "outputs": [
        {
          "output_type": "execute_result",
          "data": {
            "text/plain": [
              "array([-3.])"
            ]
          },
          "metadata": {},
          "execution_count": 58
        }
      ]
    },
    {
      "cell_type": "code",
      "source": [
        "from scipy.optimize import fsolve\n",
        "import numpy as np\n",
        "\n",
        "# Defining function to simplify intersection solution\n",
        "def findIntersection(func1, func2, x0):\n",
        "  return fsolve(lambda x : func1(x) - func2(x), x0)\n",
        "\n",
        "# Defining functions that will intersect\n",
        "funky = lambda x : np.cos(x / 5) * np.sin(x / 2)\n",
        "line = lambda x : 0.01 * x - 0.5\n",
        "\n",
        "# Defining range and getting solutions on intersection points\n",
        "x = np.linspace(0,45,10000)\n",
        "result = findIntersection(funky, line, [15, 20, 30, 35, 40, 45])\n",
        "# Printing out results for x and y\n",
        "print(result, line(result))"
      ],
      "metadata": {
        "colab": {
          "base_uri": "https://localhost:8080/"
        },
        "id": "-YKlNd0CwsIz",
        "outputId": "b8a76529-0acc-4227-efaf-1d2b8e253415"
      },
      "execution_count": null,
      "outputs": [
        {
          "output_type": "stream",
          "name": "stdout",
          "text": [
            "[13.40773078 18.11366128 31.78330863 37.0799992  39.84837786 43.8258775 ] [-0.36592269 -0.31886339 -0.18216691 -0.12920001 -0.10151622 -0.06174122]\n"
          ]
        }
      ]
    },
    {
      "cell_type": "code",
      "source": [
        "### interpolation / fit one function to another function\n",
        "\n",
        "import numpy as np\n",
        "from scipy.interpolate import interp1d\n",
        "\n",
        "### setting up the fake data\n",
        "x = np.linspace(0, 10*np.pi, 20)\n",
        "y = np.cos(x)\n",
        "\n",
        "### interpolation data\n",
        "fl = interp1d(x, y, kind=\"linear\")\n",
        "fq = interp1d(x, y, kind=\"quadratic\")\n",
        "\n",
        "\n",
        "xint = np.linspace(x.min(), x.max(), 1000)\n",
        "yintl = fl(xint)\n",
        "yintq = fq(xint)"
      ],
      "metadata": {
        "id": "KiWORY4P0-Nx"
      },
      "execution_count": null,
      "outputs": []
    },
    {
      "cell_type": "code",
      "source": [
        "### integration\n",
        "\n",
        "from scipy.integrate import quad\n",
        "\n",
        "func = lambda x: np.cos(np.exp(x))**2\n",
        "## integral from 0 to 3\n",
        "solution = quad(func, 0, 3)\n",
        "\n",
        "### the first is the answer and the second one is the error\n",
        "solution"
      ],
      "metadata": {
        "colab": {
          "base_uri": "https://localhost:8080/"
        },
        "id": "-_4F-L6j6x6f",
        "outputId": "f837aca4-59ad-4856-bc5c-3b5571d2bbf2"
      },
      "execution_count": null,
      "outputs": [
        {
          "output_type": "execute_result",
          "data": {
            "text/plain": [
              "(1.296467785724373, 1.3977971863744082e-09)"
            ]
          },
          "metadata": {},
          "execution_count": 63
        }
      ]
    },
    {
      "cell_type": "code",
      "source": [
        "### numerical integration\n",
        "\n",
        "from scipy.integrate import quad, trapz\n",
        "\n",
        "x = np.sort(np.random.randn(150)*4+ 4).clip(0,5)\n",
        "func = lambda x: np.sin(x) * np.cos(x ** 2) + 1\n",
        "y = func(x)\n",
        "# Integrating function with upper and lower\n",
        "# limits of 0 and 5, respectively\n",
        "fsolution = quad(func, 0, 5)\n",
        "dsolution = trapz(y, x=x)\n",
        "\n",
        "print('fsolution='+ str(fsolution[0]))\n",
        "print('dsolution='+ str(dsolution))\n",
        "print('The difference is ' + str(np.abs(fsolution[0] - dsolution)))"
      ],
      "metadata": {
        "colab": {
          "base_uri": "https://localhost:8080/"
        },
        "id": "Dn4HAu5jHQkr",
        "outputId": "937bae4b-148a-43c4-c8b0-5469bd640b8a"
      },
      "execution_count": null,
      "outputs": [
        {
          "output_type": "stream",
          "name": "stdout",
          "text": [
            "fsolution=5.100345067540932\n",
            "dsolution=5.078930550643706\n",
            "The difference is 0.02141451689722551\n"
          ]
        },
        {
          "output_type": "stream",
          "name": "stderr",
          "text": [
            "<ipython-input-64-61705750cc8d>:11: DeprecationWarning: 'scipy.integrate.trapz' is deprecated in favour of 'scipy.integrate.trapezoid' and will be removed in SciPy 1.14.0\n",
            "  dsolution = trapz(y, x=x)\n"
          ]
        }
      ]
    },
    {
      "cell_type": "code",
      "source": [
        "#### statistics\n",
        "\n",
        "import numpy as np\n",
        "\n",
        "x = np.random.randn(1000)\n",
        "\n",
        "mean = x.mean()\n",
        "std = x.std()\n",
        "var = x.var()"
      ],
      "metadata": {
        "id": "aKjjARlFI8nk"
      },
      "execution_count": null,
      "outputs": []
    },
    {
      "cell_type": "code",
      "source": [
        "#### functions\n",
        "\n",
        "import numpy as np\n",
        "from scipy import stats\n",
        "# Generating a normal distribution sample\n",
        "# with 100 elements\n",
        "sample = np.random.randn(100)\n",
        "# The harmonic mean: Sample values have to\n",
        "# be greater than 0.\n",
        "out = stats.hmean(sample[sample > 0])\n",
        "print('Harmonic mean='+ str(out))\n",
        "# The mean, where values below -1 and above 1 are\n",
        "# removed for the mean calculation\n",
        "out = stats.tmean(sample, limits=(-1, 1))\n",
        "print('\\nTrimmed mean='+ str(out))\n",
        "\n",
        "# Calculating the skewness of the sample\n",
        "out = stats.skew(sample)\n",
        "print('\\nSkewness='+ str(out))\n",
        "# Additionally, there is a handy summary function called\n",
        "# describe, which gives a quick look at the data.\n",
        "out = stats.describe(sample)\n",
        "print('\\nSize='+ str(out[0]))\n",
        "print('Min='+ str(out[1][0]))\n",
        "print('Max='+ str(out[1][1]))\n",
        "print('Mean='+ str(out[2]))\n",
        "print('Variance='+ str(out[3]))\n",
        "print('Skewness='+ str(out[4]))\n",
        "print('Kurtosis='+ str(out[5]))"
      ],
      "metadata": {
        "colab": {
          "base_uri": "https://localhost:8080/"
        },
        "id": "BUFAbVaBJbhx",
        "outputId": "76669e3e-971c-49b4-8832-48260bffe9ff"
      },
      "execution_count": null,
      "outputs": [
        {
          "output_type": "stream",
          "name": "stdout",
          "text": [
            "Harmonic mean=0.17762243430539523\n",
            "\n",
            "Trimmed mean=0.07273696171320393\n",
            "\n",
            "Skewness=-0.17266823527160133\n",
            "\n",
            "Size=100\n",
            "Min=-2.599627094533624\n",
            "Max=2.354343398672931\n",
            "Mean=0.1266545441341089\n",
            "Variance=0.999388639875544\n",
            "Skewness=-0.17266823527160133\n",
            "Kurtosis=-0.08033920911258097\n"
          ]
        }
      ]
    },
    {
      "cell_type": "code",
      "source": [],
      "metadata": {
        "id": "GYOJpZzTLq7r"
      },
      "execution_count": null,
      "outputs": []
    }
  ]
}